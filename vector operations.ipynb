{
 "cells": [
  {
   "cell_type": "markdown",
   "metadata": {},
   "source": [
    "vector1 <- c(2, 3, 4, 8,15)"
   ]
  },
  {
   "cell_type": "code",
   "execution_count": 6,
   "metadata": {},
   "outputs": [],
   "source": [
    "vector2 <- c(\"black\", \"Natural\", \"pvc shine\", \"gs3 natural\", \"white/uncolored\")\n"
   ]
  },
  {
   "cell_type": "code",
   "execution_count": 8,
   "metadata": {},
   "outputs": [],
   "source": [
    "vector2_factor <- factor(vector2,\n",
    "                        ordered = TRUE,\n",
    "                        levels = c(\"Natural\", \"pvc shine\", \"gs3 natural\", \"white/uncolored\", \"black\"))"
   ]
  },
  {
   "cell_type": "code",
   "execution_count": 9,
   "metadata": {},
   "outputs": [
    {
     "data": {
      "text/html": [
       "<style>\n",
       ".list-inline {list-style: none; margin:0; padding: 0}\n",
       ".list-inline>li {display: inline-block}\n",
       ".list-inline>li:not(:last-child)::after {content: \"\\00b7\"; padding: 0 .5ex}\n",
       "</style>\n",
       "<ol class=list-inline><li>black</li><li>Natural</li><li>pvc shine</li><li>gs3 natural</li><li>white/uncolored</li></ol>\n",
       "\n",
       "<details>\n",
       "\t<summary style=display:list-item;cursor:pointer>\n",
       "\t\t<strong>Levels</strong>:\n",
       "\t</summary>\n",
       "\t<style>\n",
       "\t.list-inline {list-style: none; margin:0; padding: 0}\n",
       "\t.list-inline>li {display: inline-block}\n",
       "\t.list-inline>li:not(:last-child)::after {content: \"\\00b7\"; padding: 0 .5ex}\n",
       "\t</style>\n",
       "\t<ol class=list-inline><li>'Natural'</li><li>'pvc shine'</li><li>'gs3 natural'</li><li>'white/uncolored'</li><li>'black'</li></ol>\n",
       "</details>"
      ],
      "text/latex": [
       "\\begin{enumerate*}\n",
       "\\item black\n",
       "\\item Natural\n",
       "\\item pvc shine\n",
       "\\item gs3 natural\n",
       "\\item white/uncolored\n",
       "\\end{enumerate*}\n",
       "\n",
       "\\emph{Levels}: \\begin{enumerate*}\n",
       "\\item 'Natural'\n",
       "\\item 'pvc shine'\n",
       "\\item 'gs3 natural'\n",
       "\\item 'white/uncolored'\n",
       "\\item 'black'\n",
       "\\end{enumerate*}\n"
      ],
      "text/markdown": [
       "1. black\n",
       "2. Natural\n",
       "3. pvc shine\n",
       "4. gs3 natural\n",
       "5. white/uncolored\n",
       "\n",
       "\n",
       "\n",
       "**Levels**: 1. 'Natural'\n",
       "2. 'pvc shine'\n",
       "3. 'gs3 natural'\n",
       "4. 'white/uncolored'\n",
       "5. 'black'\n",
       "\n",
       "\n"
      ],
      "text/plain": [
       "[1] black           Natural         pvc shine       gs3 natural    \n",
       "[5] white/uncolored\n",
       "Levels: Natural < pvc shine < gs3 natural < white/uncolored < black"
      ]
     },
     "metadata": {},
     "output_type": "display_data"
    }
   ],
   "source": [
    "vector2_factor"
   ]
  },
  {
   "cell_type": "code",
   "execution_count": 1,
   "metadata": {},
   "outputs": [
    {
     "data": {
      "text/html": [
       "<table>\n",
       "<caption>A data.frame: 30 × 8</caption>\n",
       "<thead>\n",
       "\t<tr><th scope=col>name</th><th scope=col>year</th><th scope=col>length_min</th><th scope=col>genre</th><th scope=col>average_rating</th><th scope=col>cost_millions</th><th scope=col>foreign</th><th scope=col>age_restriction</th></tr>\n",
       "\t<tr><th scope=col>&lt;fct&gt;</th><th scope=col>&lt;int&gt;</th><th scope=col>&lt;int&gt;</th><th scope=col>&lt;fct&gt;</th><th scope=col>&lt;dbl&gt;</th><th scope=col>&lt;dbl&gt;</th><th scope=col>&lt;int&gt;</th><th scope=col>&lt;int&gt;</th></tr>\n",
       "</thead>\n",
       "<tbody>\n",
       "\t<tr><td>Toy Story                                </td><td>1995</td><td> 81</td><td>Animation</td><td>8.3</td><td> 30.0</td><td>0</td><td> 0</td></tr>\n",
       "\t<tr><td>Akira                                    </td><td>1998</td><td>125</td><td>Animation</td><td>8.1</td><td> 10.4</td><td>1</td><td>14</td></tr>\n",
       "\t<tr><td>The Breakfast Club                       </td><td>1985</td><td> 97</td><td>Drama    </td><td>7.9</td><td>  1.0</td><td>0</td><td>14</td></tr>\n",
       "\t<tr><td>The Artist                               </td><td>2011</td><td>100</td><td>Romance  </td><td>8.0</td><td> 15.0</td><td>1</td><td>12</td></tr>\n",
       "\t<tr><td>Modern Times                             </td><td>1936</td><td> 87</td><td>Comedy   </td><td>8.6</td><td>  1.5</td><td>0</td><td>10</td></tr>\n",
       "\t<tr><td>Fight Club                               </td><td>1999</td><td>139</td><td>Drama    </td><td>8.9</td><td> 63.0</td><td>0</td><td>18</td></tr>\n",
       "\t<tr><td>City of God                              </td><td>2002</td><td>130</td><td>Crime    </td><td>8.7</td><td>  3.3</td><td>1</td><td>18</td></tr>\n",
       "\t<tr><td>The Untouchables                         </td><td>1987</td><td>119</td><td>Drama    </td><td>7.9</td><td> 25.0</td><td>0</td><td>14</td></tr>\n",
       "\t<tr><td>Star Wars Episode IV                     </td><td>1977</td><td>121</td><td>Action   </td><td>8.7</td><td> 11.0</td><td>0</td><td>10</td></tr>\n",
       "\t<tr><td>American Beauty                          </td><td>1999</td><td>122</td><td>Drama    </td><td>8.4</td><td> 15.0</td><td>0</td><td>14</td></tr>\n",
       "\t<tr><td>Room                                     </td><td>2015</td><td>118</td><td>Drama    </td><td>8.3</td><td> 13.0</td><td>1</td><td>14</td></tr>\n",
       "\t<tr><td>Dr. Strangelove                          </td><td>1964</td><td> 94</td><td>Comedy   </td><td>8.5</td><td>  1.8</td><td>1</td><td>10</td></tr>\n",
       "\t<tr><td>The Ring                                 </td><td>1998</td><td> 95</td><td>Horror   </td><td>7.3</td><td>  1.2</td><td>1</td><td>18</td></tr>\n",
       "\t<tr><td>Monty Python and the Holy Grail          </td><td>1975</td><td> 91</td><td>Comedy   </td><td>8.3</td><td>  0.4</td><td>1</td><td>18</td></tr>\n",
       "\t<tr><td>High School Musical                      </td><td>2006</td><td> 98</td><td>Comedy   </td><td>5.2</td><td>  4.2</td><td>0</td><td> 0</td></tr>\n",
       "\t<tr><td>Shaun of the Dead                        </td><td>2004</td><td> 99</td><td>Horror   </td><td>8.0</td><td>  6.1</td><td>1</td><td>18</td></tr>\n",
       "\t<tr><td>Taxi Driver                              </td><td>1976</td><td>113</td><td>Crime    </td><td>8.3</td><td>  1.3</td><td>1</td><td>14</td></tr>\n",
       "\t<tr><td>The Shawshank Redemption                 </td><td>1994</td><td>142</td><td>Crime    </td><td>9.3</td><td> 25.0</td><td>0</td><td>16</td></tr>\n",
       "\t<tr><td>Interstellar                             </td><td>2014</td><td>169</td><td>Adventure</td><td>8.6</td><td>165.0</td><td>0</td><td>10</td></tr>\n",
       "\t<tr><td>Casino                                   </td><td>1995</td><td>178</td><td>Biography</td><td>8.2</td><td> 50.0</td><td>0</td><td>18</td></tr>\n",
       "\t<tr><td>The Goodfellas                           </td><td>1990</td><td>145</td><td>Biography</td><td>8.7</td><td> 25.0</td><td>0</td><td>14</td></tr>\n",
       "\t<tr><td>Blue is the Warmest Colour               </td><td>2013</td><td>179</td><td>Romance  </td><td>7.8</td><td>  4.5</td><td>1</td><td>18</td></tr>\n",
       "\t<tr><td>Black Swan                               </td><td>2010</td><td>108</td><td>Thriller </td><td>8.0</td><td> 13.0</td><td>0</td><td>16</td></tr>\n",
       "\t<tr><td>Back to the Future                       </td><td>1985</td><td>116</td><td>Sci-fi   </td><td>8.5</td><td> 19.0</td><td>0</td><td> 0</td></tr>\n",
       "\t<tr><td>The Wave                                 </td><td>2008</td><td>107</td><td>Thriller </td><td>7.6</td><td>  5.5</td><td>1</td><td>16</td></tr>\n",
       "\t<tr><td>Whiplash                                 </td><td>2014</td><td>106</td><td>Drama    </td><td>8.5</td><td>  3.3</td><td>1</td><td>12</td></tr>\n",
       "\t<tr><td>The Grand Hotel Budapest                 </td><td>2014</td><td>100</td><td>Crime    </td><td>8.1</td><td> 25.5</td><td>0</td><td>14</td></tr>\n",
       "\t<tr><td>Jumanji                                  </td><td>1995</td><td>104</td><td>Fantasy  </td><td>6.9</td><td> 65.0</td><td>0</td><td>12</td></tr>\n",
       "\t<tr><td>The Eternal Sunshine of the Spotless Mind</td><td>2004</td><td>108</td><td>Drama    </td><td>8.3</td><td> 20.0</td><td>0</td><td>14</td></tr>\n",
       "\t<tr><td>Chicago                                  </td><td>2002</td><td>113</td><td>Comedy   </td><td>7.2</td><td> 45.0</td><td>0</td><td>12</td></tr>\n",
       "</tbody>\n",
       "</table>\n"
      ],
      "text/latex": [
       "A data.frame: 30 × 8\n",
       "\\begin{tabular}{llllllll}\n",
       " name & year & length\\_min & genre & average\\_rating & cost\\_millions & foreign & age\\_restriction\\\\\n",
       " <fct> & <int> & <int> & <fct> & <dbl> & <dbl> & <int> & <int>\\\\\n",
       "\\hline\n",
       "\t Toy Story                                 & 1995 &  81 & Animation & 8.3 &  30.0 & 0 &  0\\\\\n",
       "\t Akira                                     & 1998 & 125 & Animation & 8.1 &  10.4 & 1 & 14\\\\\n",
       "\t The Breakfast Club                        & 1985 &  97 & Drama     & 7.9 &   1.0 & 0 & 14\\\\\n",
       "\t The Artist                                & 2011 & 100 & Romance   & 8.0 &  15.0 & 1 & 12\\\\\n",
       "\t Modern Times                              & 1936 &  87 & Comedy    & 8.6 &   1.5 & 0 & 10\\\\\n",
       "\t Fight Club                                & 1999 & 139 & Drama     & 8.9 &  63.0 & 0 & 18\\\\\n",
       "\t City of God                               & 2002 & 130 & Crime     & 8.7 &   3.3 & 1 & 18\\\\\n",
       "\t The Untouchables                          & 1987 & 119 & Drama     & 7.9 &  25.0 & 0 & 14\\\\\n",
       "\t Star Wars Episode IV                      & 1977 & 121 & Action    & 8.7 &  11.0 & 0 & 10\\\\\n",
       "\t American Beauty                           & 1999 & 122 & Drama     & 8.4 &  15.0 & 0 & 14\\\\\n",
       "\t Room                                      & 2015 & 118 & Drama     & 8.3 &  13.0 & 1 & 14\\\\\n",
       "\t Dr. Strangelove                           & 1964 &  94 & Comedy    & 8.5 &   1.8 & 1 & 10\\\\\n",
       "\t The Ring                                  & 1998 &  95 & Horror    & 7.3 &   1.2 & 1 & 18\\\\\n",
       "\t Monty Python and the Holy Grail           & 1975 &  91 & Comedy    & 8.3 &   0.4 & 1 & 18\\\\\n",
       "\t High School Musical                       & 2006 &  98 & Comedy    & 5.2 &   4.2 & 0 &  0\\\\\n",
       "\t Shaun of the Dead                         & 2004 &  99 & Horror    & 8.0 &   6.1 & 1 & 18\\\\\n",
       "\t Taxi Driver                               & 1976 & 113 & Crime     & 8.3 &   1.3 & 1 & 14\\\\\n",
       "\t The Shawshank Redemption                  & 1994 & 142 & Crime     & 9.3 &  25.0 & 0 & 16\\\\\n",
       "\t Interstellar                              & 2014 & 169 & Adventure & 8.6 & 165.0 & 0 & 10\\\\\n",
       "\t Casino                                    & 1995 & 178 & Biography & 8.2 &  50.0 & 0 & 18\\\\\n",
       "\t The Goodfellas                            & 1990 & 145 & Biography & 8.7 &  25.0 & 0 & 14\\\\\n",
       "\t Blue is the Warmest Colour                & 2013 & 179 & Romance   & 7.8 &   4.5 & 1 & 18\\\\\n",
       "\t Black Swan                                & 2010 & 108 & Thriller  & 8.0 &  13.0 & 0 & 16\\\\\n",
       "\t Back to the Future                        & 1985 & 116 & Sci-fi    & 8.5 &  19.0 & 0 &  0\\\\\n",
       "\t The Wave                                  & 2008 & 107 & Thriller  & 7.6 &   5.5 & 1 & 16\\\\\n",
       "\t Whiplash                                  & 2014 & 106 & Drama     & 8.5 &   3.3 & 1 & 12\\\\\n",
       "\t The Grand Hotel Budapest                  & 2014 & 100 & Crime     & 8.1 &  25.5 & 0 & 14\\\\\n",
       "\t Jumanji                                   & 1995 & 104 & Fantasy   & 6.9 &  65.0 & 0 & 12\\\\\n",
       "\t The Eternal Sunshine of the Spotless Mind & 2004 & 108 & Drama     & 8.3 &  20.0 & 0 & 14\\\\\n",
       "\t Chicago                                   & 2002 & 113 & Comedy    & 7.2 &  45.0 & 0 & 12\\\\\n",
       "\\end{tabular}\n"
      ],
      "text/markdown": [
       "\n",
       "A data.frame: 30 × 8\n",
       "\n",
       "| name &lt;fct&gt; | year &lt;int&gt; | length_min &lt;int&gt; | genre &lt;fct&gt; | average_rating &lt;dbl&gt; | cost_millions &lt;dbl&gt; | foreign &lt;int&gt; | age_restriction &lt;int&gt; |\n",
       "|---|---|---|---|---|---|---|---|\n",
       "| Toy Story                                 | 1995 |  81 | Animation | 8.3 |  30.0 | 0 |  0 |\n",
       "| Akira                                     | 1998 | 125 | Animation | 8.1 |  10.4 | 1 | 14 |\n",
       "| The Breakfast Club                        | 1985 |  97 | Drama     | 7.9 |   1.0 | 0 | 14 |\n",
       "| The Artist                                | 2011 | 100 | Romance   | 8.0 |  15.0 | 1 | 12 |\n",
       "| Modern Times                              | 1936 |  87 | Comedy    | 8.6 |   1.5 | 0 | 10 |\n",
       "| Fight Club                                | 1999 | 139 | Drama     | 8.9 |  63.0 | 0 | 18 |\n",
       "| City of God                               | 2002 | 130 | Crime     | 8.7 |   3.3 | 1 | 18 |\n",
       "| The Untouchables                          | 1987 | 119 | Drama     | 7.9 |  25.0 | 0 | 14 |\n",
       "| Star Wars Episode IV                      | 1977 | 121 | Action    | 8.7 |  11.0 | 0 | 10 |\n",
       "| American Beauty                           | 1999 | 122 | Drama     | 8.4 |  15.0 | 0 | 14 |\n",
       "| Room                                      | 2015 | 118 | Drama     | 8.3 |  13.0 | 1 | 14 |\n",
       "| Dr. Strangelove                           | 1964 |  94 | Comedy    | 8.5 |   1.8 | 1 | 10 |\n",
       "| The Ring                                  | 1998 |  95 | Horror    | 7.3 |   1.2 | 1 | 18 |\n",
       "| Monty Python and the Holy Grail           | 1975 |  91 | Comedy    | 8.3 |   0.4 | 1 | 18 |\n",
       "| High School Musical                       | 2006 |  98 | Comedy    | 5.2 |   4.2 | 0 |  0 |\n",
       "| Shaun of the Dead                         | 2004 |  99 | Horror    | 8.0 |   6.1 | 1 | 18 |\n",
       "| Taxi Driver                               | 1976 | 113 | Crime     | 8.3 |   1.3 | 1 | 14 |\n",
       "| The Shawshank Redemption                  | 1994 | 142 | Crime     | 9.3 |  25.0 | 0 | 16 |\n",
       "| Interstellar                              | 2014 | 169 | Adventure | 8.6 | 165.0 | 0 | 10 |\n",
       "| Casino                                    | 1995 | 178 | Biography | 8.2 |  50.0 | 0 | 18 |\n",
       "| The Goodfellas                            | 1990 | 145 | Biography | 8.7 |  25.0 | 0 | 14 |\n",
       "| Blue is the Warmest Colour                | 2013 | 179 | Romance   | 7.8 |   4.5 | 1 | 18 |\n",
       "| Black Swan                                | 2010 | 108 | Thriller  | 8.0 |  13.0 | 0 | 16 |\n",
       "| Back to the Future                        | 1985 | 116 | Sci-fi    | 8.5 |  19.0 | 0 |  0 |\n",
       "| The Wave                                  | 2008 | 107 | Thriller  | 7.6 |   5.5 | 1 | 16 |\n",
       "| Whiplash                                  | 2014 | 106 | Drama     | 8.5 |   3.3 | 1 | 12 |\n",
       "| The Grand Hotel Budapest                  | 2014 | 100 | Crime     | 8.1 |  25.5 | 0 | 14 |\n",
       "| Jumanji                                   | 1995 | 104 | Fantasy   | 6.9 |  65.0 | 0 | 12 |\n",
       "| The Eternal Sunshine of the Spotless Mind | 2004 | 108 | Drama     | 8.3 |  20.0 | 0 | 14 |\n",
       "| Chicago                                   | 2002 | 113 | Comedy    | 7.2 |  45.0 | 0 | 12 |\n",
       "\n"
      ],
      "text/plain": [
       "   name                                      year length_min genre    \n",
       "1  Toy Story                                 1995  81        Animation\n",
       "2  Akira                                     1998 125        Animation\n",
       "3  The Breakfast Club                        1985  97        Drama    \n",
       "4  The Artist                                2011 100        Romance  \n",
       "5  Modern Times                              1936  87        Comedy   \n",
       "6  Fight Club                                1999 139        Drama    \n",
       "7  City of God                               2002 130        Crime    \n",
       "8  The Untouchables                          1987 119        Drama    \n",
       "9  Star Wars Episode IV                      1977 121        Action   \n",
       "10 American Beauty                           1999 122        Drama    \n",
       "11 Room                                      2015 118        Drama    \n",
       "12 Dr. Strangelove                           1964  94        Comedy   \n",
       "13 The Ring                                  1998  95        Horror   \n",
       "14 Monty Python and the Holy Grail           1975  91        Comedy   \n",
       "15 High School Musical                       2006  98        Comedy   \n",
       "16 Shaun of the Dead                         2004  99        Horror   \n",
       "17 Taxi Driver                               1976 113        Crime    \n",
       "18 The Shawshank Redemption                  1994 142        Crime    \n",
       "19 Interstellar                              2014 169        Adventure\n",
       "20 Casino                                    1995 178        Biography\n",
       "21 The Goodfellas                            1990 145        Biography\n",
       "22 Blue is the Warmest Colour                2013 179        Romance  \n",
       "23 Black Swan                                2010 108        Thriller \n",
       "24 Back to the Future                        1985 116        Sci-fi   \n",
       "25 The Wave                                  2008 107        Thriller \n",
       "26 Whiplash                                  2014 106        Drama    \n",
       "27 The Grand Hotel Budapest                  2014 100        Crime    \n",
       "28 Jumanji                                   1995 104        Fantasy  \n",
       "29 The Eternal Sunshine of the Spotless Mind 2004 108        Drama    \n",
       "30 Chicago                                   2002 113        Comedy   \n",
       "   average_rating cost_millions foreign age_restriction\n",
       "1  8.3             30.0         0        0             \n",
       "2  8.1             10.4         1       14             \n",
       "3  7.9              1.0         0       14             \n",
       "4  8.0             15.0         1       12             \n",
       "5  8.6              1.5         0       10             \n",
       "6  8.9             63.0         0       18             \n",
       "7  8.7              3.3         1       18             \n",
       "8  7.9             25.0         0       14             \n",
       "9  8.7             11.0         0       10             \n",
       "10 8.4             15.0         0       14             \n",
       "11 8.3             13.0         1       14             \n",
       "12 8.5              1.8         1       10             \n",
       "13 7.3              1.2         1       18             \n",
       "14 8.3              0.4         1       18             \n",
       "15 5.2              4.2         0        0             \n",
       "16 8.0              6.1         1       18             \n",
       "17 8.3              1.3         1       14             \n",
       "18 9.3             25.0         0       16             \n",
       "19 8.6            165.0         0       10             \n",
       "20 8.2             50.0         0       18             \n",
       "21 8.7             25.0         0       14             \n",
       "22 7.8              4.5         1       18             \n",
       "23 8.0             13.0         0       16             \n",
       "24 8.5             19.0         0        0             \n",
       "25 7.6              5.5         1       16             \n",
       "26 8.5              3.3         1       12             \n",
       "27 8.1             25.5         0       14             \n",
       "28 6.9             65.0         0       12             \n",
       "29 8.3             20.0         0       14             \n",
       "30 7.2             45.0         0       12             "
      ]
     },
     "metadata": {},
     "output_type": "display_data"
    }
   ],
   "source": [
    "#importingh data in R\n",
    "\n",
    "#reading the csv file\n",
    "read.csv(\"movies-db.csv\")\n",
    "\n"
   ]
  },
  {
   "cell_type": "code",
   "execution_count": 2,
   "metadata": {},
   "outputs": [
    {
     "name": "stderr",
     "output_type": "stream",
     "text": [
      "Installing package into ‘/home/labsuser/.R/pkgs’\n",
      "(as ‘lib’ is unspecified)\n",
      "\n",
      "Warning message in install.packages(\"readxl\"):\n",
      "“installation of package ‘readxl’ had non-zero exit status”\n"
     ]
    }
   ],
   "source": [
    "#opening excel file with \n",
    "install.packages(\"readxl\")"
   ]
  },
  {
   "cell_type": "code",
   "execution_count": 3,
   "metadata": {},
   "outputs": [],
   "source": [
    "library(readxl)"
   ]
  },
  {
   "cell_type": "code",
   "execution_count": 4,
   "metadata": {},
   "outputs": [
    {
     "data": {
      "text/html": [
       "<table>\n",
       "<caption>A tibble: 30 × 8</caption>\n",
       "<thead>\n",
       "\t<tr><th scope=col>name</th><th scope=col>year</th><th scope=col>length_min</th><th scope=col>genre</th><th scope=col>average_rating</th><th scope=col>cost_millions</th><th scope=col>foreign</th><th scope=col>age_restriction</th></tr>\n",
       "\t<tr><th scope=col>&lt;chr&gt;</th><th scope=col>&lt;dbl&gt;</th><th scope=col>&lt;dbl&gt;</th><th scope=col>&lt;chr&gt;</th><th scope=col>&lt;dbl&gt;</th><th scope=col>&lt;dbl&gt;</th><th scope=col>&lt;dbl&gt;</th><th scope=col>&lt;dbl&gt;</th></tr>\n",
       "</thead>\n",
       "<tbody>\n",
       "\t<tr><td>Toy Story                                </td><td>1995</td><td> 81</td><td>Animation</td><td>8.3</td><td> 30.0</td><td>0</td><td> 0</td></tr>\n",
       "\t<tr><td>Akira                                    </td><td>1998</td><td>125</td><td>Animation</td><td>8.1</td><td> 10.4</td><td>1</td><td>14</td></tr>\n",
       "\t<tr><td>The Breakfast Club                       </td><td>1985</td><td> 97</td><td>Drama    </td><td>7.9</td><td>  1.0</td><td>0</td><td>14</td></tr>\n",
       "\t<tr><td>The Artist                               </td><td>2011</td><td>100</td><td>Romance  </td><td>8.0</td><td> 15.0</td><td>1</td><td>12</td></tr>\n",
       "\t<tr><td>Modern Times                             </td><td>1936</td><td> 87</td><td>Comedy   </td><td>8.6</td><td>  1.5</td><td>0</td><td>10</td></tr>\n",
       "\t<tr><td>Fight Club                               </td><td>1999</td><td>139</td><td>Drama    </td><td>8.9</td><td> 63.0</td><td>0</td><td>18</td></tr>\n",
       "\t<tr><td>City of God                              </td><td>2002</td><td>130</td><td>Crime    </td><td>8.7</td><td>  3.3</td><td>1</td><td>18</td></tr>\n",
       "\t<tr><td>The Untouchables                         </td><td>1987</td><td>119</td><td>Drama    </td><td>7.9</td><td> 25.0</td><td>0</td><td>14</td></tr>\n",
       "\t<tr><td>Star Wars Episode IV                     </td><td>1977</td><td>121</td><td>Action   </td><td>8.7</td><td> 11.0</td><td>0</td><td>10</td></tr>\n",
       "\t<tr><td>American Beauty                          </td><td>1999</td><td>122</td><td>Drama    </td><td>8.4</td><td> 15.0</td><td>0</td><td>14</td></tr>\n",
       "\t<tr><td>Room                                     </td><td>2015</td><td>118</td><td>Drama    </td><td>8.3</td><td> 13.0</td><td>1</td><td>14</td></tr>\n",
       "\t<tr><td>Dr. Strangelove                          </td><td>1964</td><td> 94</td><td>Comedy   </td><td>8.5</td><td>  1.8</td><td>1</td><td>10</td></tr>\n",
       "\t<tr><td>The Ring                                 </td><td>1998</td><td> 95</td><td>Horror   </td><td>7.3</td><td>  1.2</td><td>1</td><td>18</td></tr>\n",
       "\t<tr><td>Monty Python and the Holy Grail          </td><td>1975</td><td> 91</td><td>Comedy   </td><td>8.3</td><td>  0.4</td><td>1</td><td>18</td></tr>\n",
       "\t<tr><td>High School Musical                      </td><td>2006</td><td> 98</td><td>Comedy   </td><td>5.2</td><td>  4.2</td><td>0</td><td> 0</td></tr>\n",
       "\t<tr><td>Shaun of the Dead                        </td><td>2004</td><td> 99</td><td>Horror   </td><td>8.0</td><td>  6.1</td><td>1</td><td>18</td></tr>\n",
       "\t<tr><td>Taxi Driver                              </td><td>1976</td><td>113</td><td>Crime    </td><td>8.3</td><td>  1.3</td><td>1</td><td>14</td></tr>\n",
       "\t<tr><td>The Shawshank Redemption                 </td><td>1994</td><td>142</td><td>Crime    </td><td>9.3</td><td> 25.0</td><td>0</td><td>16</td></tr>\n",
       "\t<tr><td>Interstellar                             </td><td>2014</td><td>169</td><td>Adventure</td><td>8.6</td><td>165.0</td><td>0</td><td>10</td></tr>\n",
       "\t<tr><td>Casino                                   </td><td>1995</td><td>178</td><td>Biography</td><td>8.2</td><td> 50.0</td><td>0</td><td>18</td></tr>\n",
       "\t<tr><td>The Goodfellas                           </td><td>1990</td><td>145</td><td>Biography</td><td>8.7</td><td> 25.0</td><td>0</td><td>14</td></tr>\n",
       "\t<tr><td>Blue is the Warmest Colour               </td><td>2013</td><td>179</td><td>Romance  </td><td>7.8</td><td>  4.5</td><td>1</td><td>18</td></tr>\n",
       "\t<tr><td>Black Swan                               </td><td>2010</td><td>108</td><td>Thriller </td><td>8.0</td><td> 13.0</td><td>0</td><td>16</td></tr>\n",
       "\t<tr><td>Back to the Future                       </td><td>1985</td><td>116</td><td>Sci-fi   </td><td>8.5</td><td> 19.0</td><td>0</td><td> 0</td></tr>\n",
       "\t<tr><td>The Wave                                 </td><td>2008</td><td>107</td><td>Thriller </td><td>7.6</td><td>  5.5</td><td>1</td><td>16</td></tr>\n",
       "\t<tr><td>Whiplash                                 </td><td>2014</td><td>106</td><td>Drama    </td><td>8.5</td><td>  3.3</td><td>1</td><td>12</td></tr>\n",
       "\t<tr><td>The Grand Hotel Budapest                 </td><td>2014</td><td>100</td><td>Crime    </td><td>8.1</td><td> 25.5</td><td>0</td><td>14</td></tr>\n",
       "\t<tr><td>Jumanji                                  </td><td>1995</td><td>104</td><td>Fantasy  </td><td>6.9</td><td> 65.0</td><td>0</td><td>12</td></tr>\n",
       "\t<tr><td>The Eternal Sunshine of the Spotless Mind</td><td>2004</td><td>108</td><td>Drama    </td><td>8.3</td><td> 20.0</td><td>0</td><td>14</td></tr>\n",
       "\t<tr><td>Chicago                                  </td><td>2002</td><td>113</td><td>Comedy   </td><td>7.2</td><td> 45.0</td><td>0</td><td>12</td></tr>\n",
       "</tbody>\n",
       "</table>\n"
      ],
      "text/latex": [
       "A tibble: 30 × 8\n",
       "\\begin{tabular}{llllllll}\n",
       " name & year & length\\_min & genre & average\\_rating & cost\\_millions & foreign & age\\_restriction\\\\\n",
       " <chr> & <dbl> & <dbl> & <chr> & <dbl> & <dbl> & <dbl> & <dbl>\\\\\n",
       "\\hline\n",
       "\t Toy Story                                 & 1995 &  81 & Animation & 8.3 &  30.0 & 0 &  0\\\\\n",
       "\t Akira                                     & 1998 & 125 & Animation & 8.1 &  10.4 & 1 & 14\\\\\n",
       "\t The Breakfast Club                        & 1985 &  97 & Drama     & 7.9 &   1.0 & 0 & 14\\\\\n",
       "\t The Artist                                & 2011 & 100 & Romance   & 8.0 &  15.0 & 1 & 12\\\\\n",
       "\t Modern Times                              & 1936 &  87 & Comedy    & 8.6 &   1.5 & 0 & 10\\\\\n",
       "\t Fight Club                                & 1999 & 139 & Drama     & 8.9 &  63.0 & 0 & 18\\\\\n",
       "\t City of God                               & 2002 & 130 & Crime     & 8.7 &   3.3 & 1 & 18\\\\\n",
       "\t The Untouchables                          & 1987 & 119 & Drama     & 7.9 &  25.0 & 0 & 14\\\\\n",
       "\t Star Wars Episode IV                      & 1977 & 121 & Action    & 8.7 &  11.0 & 0 & 10\\\\\n",
       "\t American Beauty                           & 1999 & 122 & Drama     & 8.4 &  15.0 & 0 & 14\\\\\n",
       "\t Room                                      & 2015 & 118 & Drama     & 8.3 &  13.0 & 1 & 14\\\\\n",
       "\t Dr. Strangelove                           & 1964 &  94 & Comedy    & 8.5 &   1.8 & 1 & 10\\\\\n",
       "\t The Ring                                  & 1998 &  95 & Horror    & 7.3 &   1.2 & 1 & 18\\\\\n",
       "\t Monty Python and the Holy Grail           & 1975 &  91 & Comedy    & 8.3 &   0.4 & 1 & 18\\\\\n",
       "\t High School Musical                       & 2006 &  98 & Comedy    & 5.2 &   4.2 & 0 &  0\\\\\n",
       "\t Shaun of the Dead                         & 2004 &  99 & Horror    & 8.0 &   6.1 & 1 & 18\\\\\n",
       "\t Taxi Driver                               & 1976 & 113 & Crime     & 8.3 &   1.3 & 1 & 14\\\\\n",
       "\t The Shawshank Redemption                  & 1994 & 142 & Crime     & 9.3 &  25.0 & 0 & 16\\\\\n",
       "\t Interstellar                              & 2014 & 169 & Adventure & 8.6 & 165.0 & 0 & 10\\\\\n",
       "\t Casino                                    & 1995 & 178 & Biography & 8.2 &  50.0 & 0 & 18\\\\\n",
       "\t The Goodfellas                            & 1990 & 145 & Biography & 8.7 &  25.0 & 0 & 14\\\\\n",
       "\t Blue is the Warmest Colour                & 2013 & 179 & Romance   & 7.8 &   4.5 & 1 & 18\\\\\n",
       "\t Black Swan                                & 2010 & 108 & Thriller  & 8.0 &  13.0 & 0 & 16\\\\\n",
       "\t Back to the Future                        & 1985 & 116 & Sci-fi    & 8.5 &  19.0 & 0 &  0\\\\\n",
       "\t The Wave                                  & 2008 & 107 & Thriller  & 7.6 &   5.5 & 1 & 16\\\\\n",
       "\t Whiplash                                  & 2014 & 106 & Drama     & 8.5 &   3.3 & 1 & 12\\\\\n",
       "\t The Grand Hotel Budapest                  & 2014 & 100 & Crime     & 8.1 &  25.5 & 0 & 14\\\\\n",
       "\t Jumanji                                   & 1995 & 104 & Fantasy   & 6.9 &  65.0 & 0 & 12\\\\\n",
       "\t The Eternal Sunshine of the Spotless Mind & 2004 & 108 & Drama     & 8.3 &  20.0 & 0 & 14\\\\\n",
       "\t Chicago                                   & 2002 & 113 & Comedy    & 7.2 &  45.0 & 0 & 12\\\\\n",
       "\\end{tabular}\n"
      ],
      "text/markdown": [
       "\n",
       "A tibble: 30 × 8\n",
       "\n",
       "| name &lt;chr&gt; | year &lt;dbl&gt; | length_min &lt;dbl&gt; | genre &lt;chr&gt; | average_rating &lt;dbl&gt; | cost_millions &lt;dbl&gt; | foreign &lt;dbl&gt; | age_restriction &lt;dbl&gt; |\n",
       "|---|---|---|---|---|---|---|---|\n",
       "| Toy Story                                 | 1995 |  81 | Animation | 8.3 |  30.0 | 0 |  0 |\n",
       "| Akira                                     | 1998 | 125 | Animation | 8.1 |  10.4 | 1 | 14 |\n",
       "| The Breakfast Club                        | 1985 |  97 | Drama     | 7.9 |   1.0 | 0 | 14 |\n",
       "| The Artist                                | 2011 | 100 | Romance   | 8.0 |  15.0 | 1 | 12 |\n",
       "| Modern Times                              | 1936 |  87 | Comedy    | 8.6 |   1.5 | 0 | 10 |\n",
       "| Fight Club                                | 1999 | 139 | Drama     | 8.9 |  63.0 | 0 | 18 |\n",
       "| City of God                               | 2002 | 130 | Crime     | 8.7 |   3.3 | 1 | 18 |\n",
       "| The Untouchables                          | 1987 | 119 | Drama     | 7.9 |  25.0 | 0 | 14 |\n",
       "| Star Wars Episode IV                      | 1977 | 121 | Action    | 8.7 |  11.0 | 0 | 10 |\n",
       "| American Beauty                           | 1999 | 122 | Drama     | 8.4 |  15.0 | 0 | 14 |\n",
       "| Room                                      | 2015 | 118 | Drama     | 8.3 |  13.0 | 1 | 14 |\n",
       "| Dr. Strangelove                           | 1964 |  94 | Comedy    | 8.5 |   1.8 | 1 | 10 |\n",
       "| The Ring                                  | 1998 |  95 | Horror    | 7.3 |   1.2 | 1 | 18 |\n",
       "| Monty Python and the Holy Grail           | 1975 |  91 | Comedy    | 8.3 |   0.4 | 1 | 18 |\n",
       "| High School Musical                       | 2006 |  98 | Comedy    | 5.2 |   4.2 | 0 |  0 |\n",
       "| Shaun of the Dead                         | 2004 |  99 | Horror    | 8.0 |   6.1 | 1 | 18 |\n",
       "| Taxi Driver                               | 1976 | 113 | Crime     | 8.3 |   1.3 | 1 | 14 |\n",
       "| The Shawshank Redemption                  | 1994 | 142 | Crime     | 9.3 |  25.0 | 0 | 16 |\n",
       "| Interstellar                              | 2014 | 169 | Adventure | 8.6 | 165.0 | 0 | 10 |\n",
       "| Casino                                    | 1995 | 178 | Biography | 8.2 |  50.0 | 0 | 18 |\n",
       "| The Goodfellas                            | 1990 | 145 | Biography | 8.7 |  25.0 | 0 | 14 |\n",
       "| Blue is the Warmest Colour                | 2013 | 179 | Romance   | 7.8 |   4.5 | 1 | 18 |\n",
       "| Black Swan                                | 2010 | 108 | Thriller  | 8.0 |  13.0 | 0 | 16 |\n",
       "| Back to the Future                        | 1985 | 116 | Sci-fi    | 8.5 |  19.0 | 0 |  0 |\n",
       "| The Wave                                  | 2008 | 107 | Thriller  | 7.6 |   5.5 | 1 | 16 |\n",
       "| Whiplash                                  | 2014 | 106 | Drama     | 8.5 |   3.3 | 1 | 12 |\n",
       "| The Grand Hotel Budapest                  | 2014 | 100 | Crime     | 8.1 |  25.5 | 0 | 14 |\n",
       "| Jumanji                                   | 1995 | 104 | Fantasy   | 6.9 |  65.0 | 0 | 12 |\n",
       "| The Eternal Sunshine of the Spotless Mind | 2004 | 108 | Drama     | 8.3 |  20.0 | 0 | 14 |\n",
       "| Chicago                                   | 2002 | 113 | Comedy    | 7.2 |  45.0 | 0 | 12 |\n",
       "\n"
      ],
      "text/plain": [
       "   name                                      year length_min genre    \n",
       "1  Toy Story                                 1995  81        Animation\n",
       "2  Akira                                     1998 125        Animation\n",
       "3  The Breakfast Club                        1985  97        Drama    \n",
       "4  The Artist                                2011 100        Romance  \n",
       "5  Modern Times                              1936  87        Comedy   \n",
       "6  Fight Club                                1999 139        Drama    \n",
       "7  City of God                               2002 130        Crime    \n",
       "8  The Untouchables                          1987 119        Drama    \n",
       "9  Star Wars Episode IV                      1977 121        Action   \n",
       "10 American Beauty                           1999 122        Drama    \n",
       "11 Room                                      2015 118        Drama    \n",
       "12 Dr. Strangelove                           1964  94        Comedy   \n",
       "13 The Ring                                  1998  95        Horror   \n",
       "14 Monty Python and the Holy Grail           1975  91        Comedy   \n",
       "15 High School Musical                       2006  98        Comedy   \n",
       "16 Shaun of the Dead                         2004  99        Horror   \n",
       "17 Taxi Driver                               1976 113        Crime    \n",
       "18 The Shawshank Redemption                  1994 142        Crime    \n",
       "19 Interstellar                              2014 169        Adventure\n",
       "20 Casino                                    1995 178        Biography\n",
       "21 The Goodfellas                            1990 145        Biography\n",
       "22 Blue is the Warmest Colour                2013 179        Romance  \n",
       "23 Black Swan                                2010 108        Thriller \n",
       "24 Back to the Future                        1985 116        Sci-fi   \n",
       "25 The Wave                                  2008 107        Thriller \n",
       "26 Whiplash                                  2014 106        Drama    \n",
       "27 The Grand Hotel Budapest                  2014 100        Crime    \n",
       "28 Jumanji                                   1995 104        Fantasy  \n",
       "29 The Eternal Sunshine of the Spotless Mind 2004 108        Drama    \n",
       "30 Chicago                                   2002 113        Comedy   \n",
       "   average_rating cost_millions foreign age_restriction\n",
       "1  8.3             30.0         0        0             \n",
       "2  8.1             10.4         1       14             \n",
       "3  7.9              1.0         0       14             \n",
       "4  8.0             15.0         1       12             \n",
       "5  8.6              1.5         0       10             \n",
       "6  8.9             63.0         0       18             \n",
       "7  8.7              3.3         1       18             \n",
       "8  7.9             25.0         0       14             \n",
       "9  8.7             11.0         0       10             \n",
       "10 8.4             15.0         0       14             \n",
       "11 8.3             13.0         1       14             \n",
       "12 8.5              1.8         1       10             \n",
       "13 7.3              1.2         1       18             \n",
       "14 8.3              0.4         1       18             \n",
       "15 5.2              4.2         0        0             \n",
       "16 8.0              6.1         1       18             \n",
       "17 8.3              1.3         1       14             \n",
       "18 9.3             25.0         0       16             \n",
       "19 8.6            165.0         0       10             \n",
       "20 8.2             50.0         0       18             \n",
       "21 8.7             25.0         0       14             \n",
       "22 7.8              4.5         1       18             \n",
       "23 8.0             13.0         0       16             \n",
       "24 8.5             19.0         0        0             \n",
       "25 7.6              5.5         1       16             \n",
       "26 8.5              3.3         1       12             \n",
       "27 8.1             25.5         0       14             \n",
       "28 6.9             65.0         0       12             \n",
       "29 8.3             20.0         0       14             \n",
       "30 7.2             45.0         0       12             "
      ]
     },
     "metadata": {},
     "output_type": "display_data"
    }
   ],
   "source": [
    "read_excel (\"movies-db.xls\")"
   ]
  },
  {
   "cell_type": "code",
   "execution_count": 5,
   "metadata": {},
   "outputs": [],
   "source": [
    "#Accessing data from datasets\n",
    "mydata <- read.csv(\"movies-db.csv\")"
   ]
  },
  {
   "cell_type": "code",
   "execution_count": 6,
   "metadata": {},
   "outputs": [
    {
     "data": {
      "text/html": [
       "<table>\n",
       "<caption>A data.frame: 30 × 1</caption>\n",
       "<thead>\n",
       "\t<tr><th scope=col>name</th></tr>\n",
       "\t<tr><th scope=col>&lt;fct&gt;</th></tr>\n",
       "</thead>\n",
       "<tbody>\n",
       "\t<tr><td>Toy Story                                </td></tr>\n",
       "\t<tr><td>Akira                                    </td></tr>\n",
       "\t<tr><td>The Breakfast Club                       </td></tr>\n",
       "\t<tr><td>The Artist                               </td></tr>\n",
       "\t<tr><td>Modern Times                             </td></tr>\n",
       "\t<tr><td>Fight Club                               </td></tr>\n",
       "\t<tr><td>City of God                              </td></tr>\n",
       "\t<tr><td>The Untouchables                         </td></tr>\n",
       "\t<tr><td>Star Wars Episode IV                     </td></tr>\n",
       "\t<tr><td>American Beauty                          </td></tr>\n",
       "\t<tr><td>Room                                     </td></tr>\n",
       "\t<tr><td>Dr. Strangelove                          </td></tr>\n",
       "\t<tr><td>The Ring                                 </td></tr>\n",
       "\t<tr><td>Monty Python and the Holy Grail          </td></tr>\n",
       "\t<tr><td>High School Musical                      </td></tr>\n",
       "\t<tr><td>Shaun of the Dead                        </td></tr>\n",
       "\t<tr><td>Taxi Driver                              </td></tr>\n",
       "\t<tr><td>The Shawshank Redemption                 </td></tr>\n",
       "\t<tr><td>Interstellar                             </td></tr>\n",
       "\t<tr><td>Casino                                   </td></tr>\n",
       "\t<tr><td>The Goodfellas                           </td></tr>\n",
       "\t<tr><td>Blue is the Warmest Colour               </td></tr>\n",
       "\t<tr><td>Black Swan                               </td></tr>\n",
       "\t<tr><td>Back to the Future                       </td></tr>\n",
       "\t<tr><td>The Wave                                 </td></tr>\n",
       "\t<tr><td>Whiplash                                 </td></tr>\n",
       "\t<tr><td>The Grand Hotel Budapest                 </td></tr>\n",
       "\t<tr><td>Jumanji                                  </td></tr>\n",
       "\t<tr><td>The Eternal Sunshine of the Spotless Mind</td></tr>\n",
       "\t<tr><td>Chicago                                  </td></tr>\n",
       "</tbody>\n",
       "</table>\n"
      ],
      "text/latex": [
       "A data.frame: 30 × 1\n",
       "\\begin{tabular}{l}\n",
       " name\\\\\n",
       " <fct>\\\\\n",
       "\\hline\n",
       "\t Toy Story                                \\\\\n",
       "\t Akira                                    \\\\\n",
       "\t The Breakfast Club                       \\\\\n",
       "\t The Artist                               \\\\\n",
       "\t Modern Times                             \\\\\n",
       "\t Fight Club                               \\\\\n",
       "\t City of God                              \\\\\n",
       "\t The Untouchables                         \\\\\n",
       "\t Star Wars Episode IV                     \\\\\n",
       "\t American Beauty                          \\\\\n",
       "\t Room                                     \\\\\n",
       "\t Dr. Strangelove                          \\\\\n",
       "\t The Ring                                 \\\\\n",
       "\t Monty Python and the Holy Grail          \\\\\n",
       "\t High School Musical                      \\\\\n",
       "\t Shaun of the Dead                        \\\\\n",
       "\t Taxi Driver                              \\\\\n",
       "\t The Shawshank Redemption                 \\\\\n",
       "\t Interstellar                             \\\\\n",
       "\t Casino                                   \\\\\n",
       "\t The Goodfellas                           \\\\\n",
       "\t Blue is the Warmest Colour               \\\\\n",
       "\t Black Swan                               \\\\\n",
       "\t Back to the Future                       \\\\\n",
       "\t The Wave                                 \\\\\n",
       "\t Whiplash                                 \\\\\n",
       "\t The Grand Hotel Budapest                 \\\\\n",
       "\t Jumanji                                  \\\\\n",
       "\t The Eternal Sunshine of the Spotless Mind\\\\\n",
       "\t Chicago                                  \\\\\n",
       "\\end{tabular}\n"
      ],
      "text/markdown": [
       "\n",
       "A data.frame: 30 × 1\n",
       "\n",
       "| name &lt;fct&gt; |\n",
       "|---|\n",
       "| Toy Story                                 |\n",
       "| Akira                                     |\n",
       "| The Breakfast Club                        |\n",
       "| The Artist                                |\n",
       "| Modern Times                              |\n",
       "| Fight Club                                |\n",
       "| City of God                               |\n",
       "| The Untouchables                          |\n",
       "| Star Wars Episode IV                      |\n",
       "| American Beauty                           |\n",
       "| Room                                      |\n",
       "| Dr. Strangelove                           |\n",
       "| The Ring                                  |\n",
       "| Monty Python and the Holy Grail           |\n",
       "| High School Musical                       |\n",
       "| Shaun of the Dead                         |\n",
       "| Taxi Driver                               |\n",
       "| The Shawshank Redemption                  |\n",
       "| Interstellar                              |\n",
       "| Casino                                    |\n",
       "| The Goodfellas                            |\n",
       "| Blue is the Warmest Colour                |\n",
       "| Black Swan                                |\n",
       "| Back to the Future                        |\n",
       "| The Wave                                  |\n",
       "| Whiplash                                  |\n",
       "| The Grand Hotel Budapest                  |\n",
       "| Jumanji                                   |\n",
       "| The Eternal Sunshine of the Spotless Mind |\n",
       "| Chicago                                   |\n",
       "\n"
      ],
      "text/plain": [
       "   name                                     \n",
       "1  Toy Story                                \n",
       "2  Akira                                    \n",
       "3  The Breakfast Club                       \n",
       "4  The Artist                               \n",
       "5  Modern Times                             \n",
       "6  Fight Club                               \n",
       "7  City of God                              \n",
       "8  The Untouchables                         \n",
       "9  Star Wars Episode IV                     \n",
       "10 American Beauty                          \n",
       "11 Room                                     \n",
       "12 Dr. Strangelove                          \n",
       "13 The Ring                                 \n",
       "14 Monty Python and the Holy Grail          \n",
       "15 High School Musical                      \n",
       "16 Shaun of the Dead                        \n",
       "17 Taxi Driver                              \n",
       "18 The Shawshank Redemption                 \n",
       "19 Interstellar                             \n",
       "20 Casino                                   \n",
       "21 The Goodfellas                           \n",
       "22 Blue is the Warmest Colour               \n",
       "23 Black Swan                               \n",
       "24 Back to the Future                       \n",
       "25 The Wave                                 \n",
       "26 Whiplash                                 \n",
       "27 The Grand Hotel Budapest                 \n",
       "28 Jumanji                                  \n",
       "29 The Eternal Sunshine of the Spotless Mind\n",
       "30 Chicago                                  "
      ]
     },
     "metadata": {},
     "output_type": "display_data"
    }
   ],
   "source": [
    "mydata[\"name\"]"
   ]
  },
  {
   "cell_type": "code",
   "execution_count": 7,
   "metadata": {},
   "outputs": [
    {
     "data": {
      "text/html": [
       "<table>\n",
       "<caption>A data.frame: 1 × 8</caption>\n",
       "<thead>\n",
       "\t<tr><th></th><th scope=col>name</th><th scope=col>year</th><th scope=col>length_min</th><th scope=col>genre</th><th scope=col>average_rating</th><th scope=col>cost_millions</th><th scope=col>foreign</th><th scope=col>age_restriction</th></tr>\n",
       "\t<tr><th></th><th scope=col>&lt;fct&gt;</th><th scope=col>&lt;int&gt;</th><th scope=col>&lt;int&gt;</th><th scope=col>&lt;fct&gt;</th><th scope=col>&lt;dbl&gt;</th><th scope=col>&lt;dbl&gt;</th><th scope=col>&lt;int&gt;</th><th scope=col>&lt;int&gt;</th></tr>\n",
       "</thead>\n",
       "<tbody>\n",
       "\t<tr><th scope=row>1</th><td>Toy Story</td><td>1995</td><td>81</td><td>Animation</td><td>8.3</td><td>30</td><td>0</td><td>0</td></tr>\n",
       "</tbody>\n",
       "</table>\n"
      ],
      "text/latex": [
       "A data.frame: 1 × 8\n",
       "\\begin{tabular}{r|llllllll}\n",
       "  & name & year & length\\_min & genre & average\\_rating & cost\\_millions & foreign & age\\_restriction\\\\\n",
       "  & <fct> & <int> & <int> & <fct> & <dbl> & <dbl> & <int> & <int>\\\\\n",
       "\\hline\n",
       "\t1 & Toy Story & 1995 & 81 & Animation & 8.3 & 30 & 0 & 0\\\\\n",
       "\\end{tabular}\n"
      ],
      "text/markdown": [
       "\n",
       "A data.frame: 1 × 8\n",
       "\n",
       "| <!--/--> | name &lt;fct&gt; | year &lt;int&gt; | length_min &lt;int&gt; | genre &lt;fct&gt; | average_rating &lt;dbl&gt; | cost_millions &lt;dbl&gt; | foreign &lt;int&gt; | age_restriction &lt;int&gt; |\n",
       "|---|---|---|---|---|---|---|---|---|\n",
       "| 1 | Toy Story | 1995 | 81 | Animation | 8.3 | 30 | 0 | 0 |\n",
       "\n"
      ],
      "text/plain": [
       "  name      year length_min genre     average_rating cost_millions foreign\n",
       "1 Toy Story 1995 81         Animation 8.3            30            0      \n",
       "  age_restriction\n",
       "1 0              "
      ]
     },
     "metadata": {},
     "output_type": "display_data"
    }
   ],
   "source": [
    "mydata[1,] # to read one row"
   ]
  },
  {
   "cell_type": "code",
   "execution_count": 8,
   "metadata": {},
   "outputs": [
    {
     "data": {
      "text/html": [
       "<table>\n",
       "<caption>A data.frame: 1 × 2</caption>\n",
       "<thead>\n",
       "\t<tr><th></th><th scope=col>name</th><th scope=col>genre</th></tr>\n",
       "\t<tr><th></th><th scope=col>&lt;fct&gt;</th><th scope=col>&lt;fct&gt;</th></tr>\n",
       "</thead>\n",
       "<tbody>\n",
       "\t<tr><th scope=row>6</th><td>Fight Club</td><td>Drama</td></tr>\n",
       "</tbody>\n",
       "</table>\n"
      ],
      "text/latex": [
       "A data.frame: 1 × 2\n",
       "\\begin{tabular}{r|ll}\n",
       "  & name & genre\\\\\n",
       "  & <fct> & <fct>\\\\\n",
       "\\hline\n",
       "\t6 & Fight Club & Drama\\\\\n",
       "\\end{tabular}\n"
      ],
      "text/markdown": [
       "\n",
       "A data.frame: 1 × 2\n",
       "\n",
       "| <!--/--> | name &lt;fct&gt; | genre &lt;fct&gt; |\n",
       "|---|---|---|\n",
       "| 6 | Fight Club | Drama |\n",
       "\n"
      ],
      "text/plain": [
       "  name       genre\n",
       "6 Fight Club Drama"
      ]
     },
     "metadata": {},
     "output_type": "display_data"
    }
   ],
   "source": [
    "# to access specific row  and selected col\n",
    "mydata[6, c(\"name\", \"genre\")]"
   ]
  },
  {
   "cell_type": "code",
   "execution_count": 9,
   "metadata": {},
   "outputs": [
    {
     "data": {
      "text/html": [
       "<table>\n",
       "<caption>A data.frame: 6 × 8</caption>\n",
       "<thead>\n",
       "\t<tr><th></th><th scope=col>name</th><th scope=col>year</th><th scope=col>length_min</th><th scope=col>genre</th><th scope=col>average_rating</th><th scope=col>cost_millions</th><th scope=col>foreign</th><th scope=col>age_restriction</th></tr>\n",
       "\t<tr><th></th><th scope=col>&lt;fct&gt;</th><th scope=col>&lt;int&gt;</th><th scope=col>&lt;int&gt;</th><th scope=col>&lt;fct&gt;</th><th scope=col>&lt;dbl&gt;</th><th scope=col>&lt;dbl&gt;</th><th scope=col>&lt;int&gt;</th><th scope=col>&lt;int&gt;</th></tr>\n",
       "</thead>\n",
       "<tbody>\n",
       "\t<tr><th scope=row>1</th><td>Toy Story         </td><td>1995</td><td> 81</td><td>Animation</td><td>8.3</td><td>30.0</td><td>0</td><td> 0</td></tr>\n",
       "\t<tr><th scope=row>2</th><td>Akira             </td><td>1998</td><td>125</td><td>Animation</td><td>8.1</td><td>10.4</td><td>1</td><td>14</td></tr>\n",
       "\t<tr><th scope=row>3</th><td>The Breakfast Club</td><td>1985</td><td> 97</td><td>Drama    </td><td>7.9</td><td> 1.0</td><td>0</td><td>14</td></tr>\n",
       "\t<tr><th scope=row>4</th><td>The Artist        </td><td>2011</td><td>100</td><td>Romance  </td><td>8.0</td><td>15.0</td><td>1</td><td>12</td></tr>\n",
       "\t<tr><th scope=row>5</th><td>Modern Times      </td><td>1936</td><td> 87</td><td>Comedy   </td><td>8.6</td><td> 1.5</td><td>0</td><td>10</td></tr>\n",
       "\t<tr><th scope=row>6</th><td>Fight Club        </td><td>1999</td><td>139</td><td>Drama    </td><td>8.9</td><td>63.0</td><td>0</td><td>18</td></tr>\n",
       "</tbody>\n",
       "</table>\n"
      ],
      "text/latex": [
       "A data.frame: 6 × 8\n",
       "\\begin{tabular}{r|llllllll}\n",
       "  & name & year & length\\_min & genre & average\\_rating & cost\\_millions & foreign & age\\_restriction\\\\\n",
       "  & <fct> & <int> & <int> & <fct> & <dbl> & <dbl> & <int> & <int>\\\\\n",
       "\\hline\n",
       "\t1 & Toy Story          & 1995 &  81 & Animation & 8.3 & 30.0 & 0 &  0\\\\\n",
       "\t2 & Akira              & 1998 & 125 & Animation & 8.1 & 10.4 & 1 & 14\\\\\n",
       "\t3 & The Breakfast Club & 1985 &  97 & Drama     & 7.9 &  1.0 & 0 & 14\\\\\n",
       "\t4 & The Artist         & 2011 & 100 & Romance   & 8.0 & 15.0 & 1 & 12\\\\\n",
       "\t5 & Modern Times       & 1936 &  87 & Comedy    & 8.6 &  1.5 & 0 & 10\\\\\n",
       "\t6 & Fight Club         & 1999 & 139 & Drama     & 8.9 & 63.0 & 0 & 18\\\\\n",
       "\\end{tabular}\n"
      ],
      "text/markdown": [
       "\n",
       "A data.frame: 6 × 8\n",
       "\n",
       "| <!--/--> | name &lt;fct&gt; | year &lt;int&gt; | length_min &lt;int&gt; | genre &lt;fct&gt; | average_rating &lt;dbl&gt; | cost_millions &lt;dbl&gt; | foreign &lt;int&gt; | age_restriction &lt;int&gt; |\n",
       "|---|---|---|---|---|---|---|---|---|\n",
       "| 1 | Toy Story          | 1995 |  81 | Animation | 8.3 | 30.0 | 0 |  0 |\n",
       "| 2 | Akira              | 1998 | 125 | Animation | 8.1 | 10.4 | 1 | 14 |\n",
       "| 3 | The Breakfast Club | 1985 |  97 | Drama     | 7.9 |  1.0 | 0 | 14 |\n",
       "| 4 | The Artist         | 2011 | 100 | Romance   | 8.0 | 15.0 | 1 | 12 |\n",
       "| 5 | Modern Times       | 1936 |  87 | Comedy    | 8.6 |  1.5 | 0 | 10 |\n",
       "| 6 | Fight Club         | 1999 | 139 | Drama     | 8.9 | 63.0 | 0 | 18 |\n",
       "\n"
      ],
      "text/plain": [
       "  name               year length_min genre     average_rating cost_millions\n",
       "1 Toy Story          1995  81        Animation 8.3            30.0         \n",
       "2 Akira              1998 125        Animation 8.1            10.4         \n",
       "3 The Breakfast Club 1985  97        Drama     7.9             1.0         \n",
       "4 The Artist         2011 100        Romance   8.0            15.0         \n",
       "5 Modern Times       1936  87        Comedy    8.6             1.5         \n",
       "6 Fight Club         1999 139        Drama     8.9            63.0         \n",
       "  foreign age_restriction\n",
       "1 0        0             \n",
       "2 1       14             \n",
       "3 0       14             \n",
       "4 1       12             \n",
       "5 0       10             \n",
       "6 0       18             "
      ]
     },
     "metadata": {},
     "output_type": "display_data"
    }
   ],
   "source": [
    "head(mydata)#it5 will give 1st 6 "
   ]
  },
  {
   "cell_type": "code",
   "execution_count": 11,
   "metadata": {},
   "outputs": [
    {
     "data": {
      "text/html": [
       "<table>\n",
       "<caption>A data.frame: 6 × 8</caption>\n",
       "<thead>\n",
       "\t<tr><th></th><th scope=col>name</th><th scope=col>year</th><th scope=col>length_min</th><th scope=col>genre</th><th scope=col>average_rating</th><th scope=col>cost_millions</th><th scope=col>foreign</th><th scope=col>age_restriction</th></tr>\n",
       "\t<tr><th></th><th scope=col>&lt;fct&gt;</th><th scope=col>&lt;int&gt;</th><th scope=col>&lt;int&gt;</th><th scope=col>&lt;fct&gt;</th><th scope=col>&lt;dbl&gt;</th><th scope=col>&lt;dbl&gt;</th><th scope=col>&lt;int&gt;</th><th scope=col>&lt;int&gt;</th></tr>\n",
       "</thead>\n",
       "<tbody>\n",
       "\t<tr><th scope=row>25</th><td>The Wave                                 </td><td>2008</td><td>107</td><td>Thriller</td><td>7.6</td><td> 5.5</td><td>1</td><td>16</td></tr>\n",
       "\t<tr><th scope=row>26</th><td>Whiplash                                 </td><td>2014</td><td>106</td><td>Drama   </td><td>8.5</td><td> 3.3</td><td>1</td><td>12</td></tr>\n",
       "\t<tr><th scope=row>27</th><td>The Grand Hotel Budapest                 </td><td>2014</td><td>100</td><td>Crime   </td><td>8.1</td><td>25.5</td><td>0</td><td>14</td></tr>\n",
       "\t<tr><th scope=row>28</th><td>Jumanji                                  </td><td>1995</td><td>104</td><td>Fantasy </td><td>6.9</td><td>65.0</td><td>0</td><td>12</td></tr>\n",
       "\t<tr><th scope=row>29</th><td>The Eternal Sunshine of the Spotless Mind</td><td>2004</td><td>108</td><td>Drama   </td><td>8.3</td><td>20.0</td><td>0</td><td>14</td></tr>\n",
       "\t<tr><th scope=row>30</th><td>Chicago                                  </td><td>2002</td><td>113</td><td>Comedy  </td><td>7.2</td><td>45.0</td><td>0</td><td>12</td></tr>\n",
       "</tbody>\n",
       "</table>\n"
      ],
      "text/latex": [
       "A data.frame: 6 × 8\n",
       "\\begin{tabular}{r|llllllll}\n",
       "  & name & year & length\\_min & genre & average\\_rating & cost\\_millions & foreign & age\\_restriction\\\\\n",
       "  & <fct> & <int> & <int> & <fct> & <dbl> & <dbl> & <int> & <int>\\\\\n",
       "\\hline\n",
       "\t25 & The Wave                                  & 2008 & 107 & Thriller & 7.6 &  5.5 & 1 & 16\\\\\n",
       "\t26 & Whiplash                                  & 2014 & 106 & Drama    & 8.5 &  3.3 & 1 & 12\\\\\n",
       "\t27 & The Grand Hotel Budapest                  & 2014 & 100 & Crime    & 8.1 & 25.5 & 0 & 14\\\\\n",
       "\t28 & Jumanji                                   & 1995 & 104 & Fantasy  & 6.9 & 65.0 & 0 & 12\\\\\n",
       "\t29 & The Eternal Sunshine of the Spotless Mind & 2004 & 108 & Drama    & 8.3 & 20.0 & 0 & 14\\\\\n",
       "\t30 & Chicago                                   & 2002 & 113 & Comedy   & 7.2 & 45.0 & 0 & 12\\\\\n",
       "\\end{tabular}\n"
      ],
      "text/markdown": [
       "\n",
       "A data.frame: 6 × 8\n",
       "\n",
       "| <!--/--> | name &lt;fct&gt; | year &lt;int&gt; | length_min &lt;int&gt; | genre &lt;fct&gt; | average_rating &lt;dbl&gt; | cost_millions &lt;dbl&gt; | foreign &lt;int&gt; | age_restriction &lt;int&gt; |\n",
       "|---|---|---|---|---|---|---|---|---|\n",
       "| 25 | The Wave                                  | 2008 | 107 | Thriller | 7.6 |  5.5 | 1 | 16 |\n",
       "| 26 | Whiplash                                  | 2014 | 106 | Drama    | 8.5 |  3.3 | 1 | 12 |\n",
       "| 27 | The Grand Hotel Budapest                  | 2014 | 100 | Crime    | 8.1 | 25.5 | 0 | 14 |\n",
       "| 28 | Jumanji                                   | 1995 | 104 | Fantasy  | 6.9 | 65.0 | 0 | 12 |\n",
       "| 29 | The Eternal Sunshine of the Spotless Mind | 2004 | 108 | Drama    | 8.3 | 20.0 | 0 | 14 |\n",
       "| 30 | Chicago                                   | 2002 | 113 | Comedy   | 7.2 | 45.0 | 0 | 12 |\n",
       "\n"
      ],
      "text/plain": [
       "   name                                      year length_min genre   \n",
       "25 The Wave                                  2008 107        Thriller\n",
       "26 Whiplash                                  2014 106        Drama   \n",
       "27 The Grand Hotel Budapest                  2014 100        Crime   \n",
       "28 Jumanji                                   1995 104        Fantasy \n",
       "29 The Eternal Sunshine of the Spotless Mind 2004 108        Drama   \n",
       "30 Chicago                                   2002 113        Comedy  \n",
       "   average_rating cost_millions foreign age_restriction\n",
       "25 7.6             5.5          1       16             \n",
       "26 8.5             3.3          1       12             \n",
       "27 8.1            25.5          0       14             \n",
       "28 6.9            65.0          0       12             \n",
       "29 8.3            20.0          0       14             \n",
       "30 7.2            45.0          0       12             "
      ]
     },
     "metadata": {},
     "output_type": "display_data"
    }
   ],
   "source": [
    "tail(mydata) #last 6 elements will be shown"
   ]
  },
  {
   "cell_type": "code",
   "execution_count": 12,
   "metadata": {},
   "outputs": [
    {
     "data": {
      "text/html": [
       "<table>\n",
       "<caption>A data.frame: 6 × 2</caption>\n",
       "<thead>\n",
       "\t<tr><th></th><th scope=col>name</th><th scope=col>genre</th></tr>\n",
       "\t<tr><th></th><th scope=col>&lt;fct&gt;</th><th scope=col>&lt;fct&gt;</th></tr>\n",
       "</thead>\n",
       "<tbody>\n",
       "\t<tr><th scope=row>1</th><td>Toy Story         </td><td>Animation</td></tr>\n",
       "\t<tr><th scope=row>2</th><td>Akira             </td><td>Animation</td></tr>\n",
       "\t<tr><th scope=row>3</th><td>The Breakfast Club</td><td>Drama    </td></tr>\n",
       "\t<tr><th scope=row>4</th><td>The Artist        </td><td>Romance  </td></tr>\n",
       "\t<tr><th scope=row>5</th><td>Modern Times      </td><td>Comedy   </td></tr>\n",
       "\t<tr><th scope=row>6</th><td>Fight Club        </td><td>Drama    </td></tr>\n",
       "</tbody>\n",
       "</table>\n"
      ],
      "text/latex": [
       "A data.frame: 6 × 2\n",
       "\\begin{tabular}{r|ll}\n",
       "  & name & genre\\\\\n",
       "  & <fct> & <fct>\\\\\n",
       "\\hline\n",
       "\t1 & Toy Story          & Animation\\\\\n",
       "\t2 & Akira              & Animation\\\\\n",
       "\t3 & The Breakfast Club & Drama    \\\\\n",
       "\t4 & The Artist         & Romance  \\\\\n",
       "\t5 & Modern Times       & Comedy   \\\\\n",
       "\t6 & Fight Club         & Drama    \\\\\n",
       "\\end{tabular}\n"
      ],
      "text/markdown": [
       "\n",
       "A data.frame: 6 × 2\n",
       "\n",
       "| <!--/--> | name &lt;fct&gt; | genre &lt;fct&gt; |\n",
       "|---|---|---|\n",
       "| 1 | Toy Story          | Animation |\n",
       "| 2 | Akira              | Animation |\n",
       "| 3 | The Breakfast Club | Drama     |\n",
       "| 4 | The Artist         | Romance   |\n",
       "| 5 | Modern Times       | Comedy    |\n",
       "| 6 | Fight Club         | Drama     |\n",
       "\n"
      ],
      "text/plain": [
       "  name               genre    \n",
       "1 Toy Story          Animation\n",
       "2 Akira              Animation\n",
       "3 The Breakfast Club Drama    \n",
       "4 The Artist         Romance  \n",
       "5 Modern Times       Comedy   \n",
       "6 Fight Club         Drama    "
      ]
     },
     "metadata": {},
     "output_type": "display_data"
    }
   ],
   "source": [
    "mydata[1:6, c(\"name\", \"genre\")] "
   ]
  },
  {
   "cell_type": "code",
   "execution_count": 13,
   "metadata": {},
   "outputs": [
    {
     "name": "stdout",
     "output_type": "stream",
     "text": [
      "'data.frame':\t30 obs. of  8 variables:\n",
      " $ name           : Factor w/ 30 levels \"Akira\",\"American Beauty\",..: 29 1 21 20 14 10 8 27 18 2 ...\n",
      " $ year           : int  1995 1998 1985 2011 1936 1999 2002 1987 1977 1999 ...\n",
      " $ length_min     : int  81 125 97 100 87 139 130 119 121 122 ...\n",
      " $ genre          : Factor w/ 12 levels \"Action\",\"Adventure\",..: 3 3 7 10 5 7 6 7 1 7 ...\n",
      " $ average_rating : num  8.3 8.1 7.9 8 8.6 8.9 8.7 7.9 8.7 8.4 ...\n",
      " $ cost_millions  : num  30 10.4 1 15 1.5 63 3.3 25 11 15 ...\n",
      " $ foreign        : int  0 1 0 1 0 0 1 0 0 0 ...\n",
      " $ age_restriction: int  0 14 14 12 10 18 18 14 10 14 ...\n"
     ]
    }
   ],
   "source": [
    "str(mydata) # to get detail about the structure of the table\n"
   ]
  },
  {
   "cell_type": "code",
   "execution_count": 14,
   "metadata": {},
   "outputs": [
    {
     "data": {
      "text/html": [
       "<style>\n",
       ".list-inline {list-style: none; margin:0; padding: 0}\n",
       ".list-inline>li {display: inline-block}\n",
       ".list-inline>li:not(:last-child)::after {content: \"\\00b7\"; padding: 0 .5ex}\n",
       "</style>\n",
       "<ol class=list-inline><li>'25 64 93'</li><li>'45 65 93'</li></ol>\n"
      ],
      "text/latex": [
       "\\begin{enumerate*}\n",
       "\\item '25 64 93'\n",
       "\\item '45 65 93'\n",
       "\\end{enumerate*}\n"
      ],
      "text/markdown": [
       "1. '25 64 93'\n",
       "2. '45 65 93'\n",
       "\n",
       "\n"
      ],
      "text/plain": [
       "[1] \"25 64 93\" \"45 65 93\""
      ]
     },
     "metadata": {},
     "output_type": "display_data"
    }
   ],
   "source": [
    "#reading files \n",
    "#set the directories to the folder where the the file is by using the setwd(\"filepth/dir\")\n",
    "#using the following command read the line and assigm it to the variable\n",
    "\n",
    "hbar <- readLines(\"tata_hbar.txt\")\n",
    "hbar #now ctrl + enter\n"
   ]
  },
  {
   "cell_type": "code",
   "execution_count": 15,
   "metadata": {},
   "outputs": [
    {
     "data": {
      "text/html": [
       "<table>\n",
       "<caption>A matrix: 2 × 3 of type dbl</caption>\n",
       "<tbody>\n",
       "\t<tr><td>25</td><td>93</td><td>65</td></tr>\n",
       "\t<tr><td>64</td><td>45</td><td>93</td></tr>\n",
       "</tbody>\n",
       "</table>\n"
      ],
      "text/latex": [
       "A matrix: 2 × 3 of type dbl\n",
       "\\begin{tabular}{lll}\n",
       "\t 25 & 93 & 65\\\\\n",
       "\t 64 & 45 & 93\\\\\n",
       "\\end{tabular}\n"
      ],
      "text/markdown": [
       "\n",
       "A matrix: 2 × 3 of type dbl\n",
       "\n",
       "| 25 | 93 | 65 |\n",
       "| 64 | 45 | 93 |\n",
       "\n"
      ],
      "text/plain": [
       "     [,1] [,2] [,3]\n",
       "[1,] 25   93   65  \n",
       "[2,] 64   45   93  "
      ]
     },
     "metadata": {},
     "output_type": "display_data"
    }
   ],
   "source": [
    "#writing on the txt file using the write command\n",
    "#  suppose we have the matrix hbar, and we have to write the hbar to the txt file to the \"tata_har.txt\"\n",
    "#write command in following way\n",
    "h_bar <- matrix(c(25, 64, 93, 45, 65, 93), nrow = 2, ncol = 3)\n",
    "h_bar # now we have h_bar matrix\n",
    "write(h_bar, file = \"tata_hbar.txt\",\n",
    "     ncolumns = 3, sep =\" \")"
   ]
  },
  {
   "cell_type": "code",
   "execution_count": null,
   "metadata": {},
   "outputs": [],
   "source": []
  }
 ],
 "metadata": {
  "kernelspec": {
   "display_name": "R",
   "language": "R",
   "name": "ir"
  },
  "language_info": {
   "codemirror_mode": "r",
   "file_extension": ".r",
   "mimetype": "text/x-r-source",
   "name": "R",
   "pygments_lexer": "r",
   "version": "3.6.3"
  }
 },
 "nbformat": 4,
 "nbformat_minor": 4
}
